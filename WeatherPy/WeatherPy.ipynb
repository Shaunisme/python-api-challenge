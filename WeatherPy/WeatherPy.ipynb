{
 "cells": [
  {
   "cell_type": "markdown",
   "metadata": {},
   "source": [
    "# WeatherPy\n",
    "----\n",
    "\n",
    "#### Note\n",
    "* Instructions have been included for each segment. You do not have to follow them exactly, but they are included to help you think through the steps."
   ]
  },
  {
   "cell_type": "code",
   "execution_count": 38,
   "metadata": {
    "scrolled": true
   },
   "outputs": [],
   "source": [
    "# Dependencies and Setup\n",
    "import matplotlib.pyplot as plt\n",
    "import pandas as pd\n",
    "import numpy as np\n",
    "import requests\n",
    "import time\n",
    "from scipy.stats import linregress\n",
    "\n",
    "# Import API key\n",
    "from api_keys import (weather_api_key,g_key)\n",
    "\n",
    "# Incorporated citipy to determine city based on latitude and longitude\n",
    "from citipy import citipy\n",
    "\n",
    "# Output File (CSV)\n",
    "output_data_file = \"../output_data/cities.csv\"\n",
    "\n",
    "# Range of latitudes and longitudes\n",
    "lat_range = (-90, 90)\n",
    "lng_range = (-180, 180)"
   ]
  },
  {
   "cell_type": "markdown",
   "metadata": {},
   "source": [
    "## Generate Cities List"
   ]
  },
  {
   "cell_type": "code",
   "execution_count": 11,
   "metadata": {},
   "outputs": [
    {
     "name": "stdout",
     "output_type": "stream",
     "text": [
      "['vila', 'mataura', 'saskylakh', 'qaanaaq', 'svetlyy', 'rikitea', 'cascais', 'amderma', 'souillac', 'bonavista', 'nizhneyansk', 'pisco', 'kapaa', 'tsihombe', 'tuatapere', 'price', 'palembang', 'capitan bado', 'ushuaia', 'auki', 'tura', 'mys shmidta', 'calabozo', 'iqaluit', 'vila franca do campo', 'saint-philippe', 'makakilo city', 'cherskiy', 'butaritari', 'narsaq', 'skibbereen', 'palabuhanratu', 'santa rosa', 'muros', 'khatanga', 'bluff', 'sept-iles', 'hilo', 'albany', 'jamestown', 'vaini', 'barrow', 'mankachar', 'barentsburg', 'adrar', 'beringovskiy', 'castro', 'yvetot', 'coihaique', 'sioux lookout', 'new norfolk', 'port alfred', 'pimentel', 'airai', 'hovd', 'taolanaro', 'codrington', 'zhigansk', 'lagoa', 'shelburne', 'hermanus', 'vilhena', 'cape town', 'acarau', 'abu samrah', 'marystown', 'victoria', 'busselton', 'lebu', 'rio grande', 'nanortalik', 'ilulissat', 'iranshahr', 'sogdiondon', 'korla', 'vestmanna', 'tawkar', 'dikson', 'kaohsiung', 'yellowknife', 'mahebourg', 'sidvokodvo', 'arraial do cabo', 'puerto ayora', 'touros', 'ewa beach', 'bowen', 'tiksi', 'kisangani', 'mala', 'klichka', 'orsha', 'awjilah', 'bredasdorp', 'abrau-dyurso', 'east london', 'altay', 'inverness', 'dunedin', 'ubinskoye', 'malinyi', 'taltal', 'dolores', 'porto santo', 'port hardy', 'chuy', 'sistranda', 'provideniya', 'vao', 'marcona', 'lively', 'tasiilaq', 'kilindoni', 'avarua', 'san rafael', 'teluk nibung', 'camana', 'ambulu', 'saldanha', 'praia da vitoria', 'tezu', 'port lincoln', 'wencheng', 'gayny', 'turukhansk', 'punta arenas', 'buturlino', 'guerrero negro', 'poltar', 'isangel', 'develi', 'havoysund', 'faanui', 'bathsheba', 'zyryanka', 'seoul', 'katsuura', 'wilmington', 'kurilsk', 'taoudenni', 'huarmey', 'vostok', 'cabo san lucas', 'khonuu', 'rungata', 'halifax', 'koungou', 'la orilla', 'cedar city', 'nantucket', 'padang', 'tuktoyaktuk', 'barbar', 'hithadhoo', 'novikovo', 'umm kaddadah', 'kruisfontein', 'nemuro', 'port elizabeth', 'uvat', 'salekhard', 'oyama', 'mangrol', 'kodiak', 'jacareacanga', 'sambava', 'sao joao da barra', 'petropavlovsk-kamchatskiy', 'esperance', 'inongo', 'bethel', 'leningradskiy', 'bilibino', 'asfi', 'nuuk', 'agadez', 'port pirie', 'yuzhno-yeniseyskiy', 'grand river south east', 'porto novo', 'melendugno', 'san cristobal', 'te anau', 'portland', 'mar del plata', 'bambous virieux', 'palmas bellas', 'saint-francois', 'agva', 'anar darreh', 'chapais', 'hami', 'huanuco', 'aripuana', 'canton', 'vaitupu', 'bilsi', 'senanga', 'presidencia roque saenz pena', 'kulhudhuffushi', 'coruripe', 'torbay', 'novoyegoryevskoye', 'kasongo-lunda', 'zitiste', 'amga', 'yulara', 'vega de alatorre', 'bezhanitsy', 'buraydah', 'along', 'mayor pablo lagerenza', 'carahue', 'barra do garcas', 'monrovia', 'xinqing', 'haines junction', 'lethem', 'andilamena', 'kavieng', 'semnan', 'avera', 'salaga', 'houma', 'amapa', 'nome', 'nguiu', 'nikolskoye', 'altamira', 'norman wells', 'mount gambier', 'kysyl-syr', 'cockburn harbour', 'vardo', 'paliyad', 'humboldt', 'georgetown', 'gat', 'lompoc', 'chingirlau', 'chokurdakh', 'nouadhibou', 'rantauprapat', 'kirkland lake', 'fare', 'smirnykh', 'zabol', 'port hedland', 'cancun', 'saint george', 'geraldton', 'amnat charoen', 'penha', 'laurel', 'sitka', 'bone', 'kloulklubed', 'coquimbo', 'garden city', 'sentyabrskiy', 'hobart', 'hoquiam', 'punta gorda', 'severobaykalsk', 'inta', 'vila real de santo antonio', 'begunitsy', 'fayaoue', 'belushya guba', 'oktyabrskiy', 'maniitsoq', 'uroteppa', 'sorong', 'illoqqortoormiut', 'saleaula', 'marrakesh', 'mahajanga', 'yalta', 'udachnyy', 'brightwater', 'wuwei', 'shchigry', 'ler', 'itaituba', 'aklavik', 'balashov', 'douglas', 'beloha', 'mulanje', 'borovoy', 'carnarvon', 'balkanabat', 'husavik', 'sao filipe', 'cumaribo', 'belozerskoye', 'ribeira grande', 'manono', 'san carlos de bariloche', 'port hawkesbury', 'bloemfontein', 'aswan', 'winnemucca', 'rocha', 'haileybury', 'thunder bay', 'rassvet', 'jawhar', 'quatre cocos', 'longyearbyen', 'latung', 'newport', 'ondjiva', 'pevek', 'asau', 'nanakuli', 'albertville', 'kodinsk', 'sangar', 'oro valley', 'iwade', 'honningsvag', 'umm lajj', 'naze', 'samarai', 'emerald', 'sinnamary', 'biak', 'kazalinsk', 'san quintin', 'hofn', 'la puebla de cazalla', 'srednekolymsk', 'muroto', 'contai', 'itoman', 'tutoia', 'mandapam', 'shanghai', 'meyungs', 'atuona', 'vysokogornyy', 'hirado', 'tabiauea', 'dien bien', 'antalaha', 'kahului', 'liverpool', 'marquette', 'hasaki', 'ormara', 'glendive', 'clyde river', 'college', 'puerto escondido', 'hobyo', 'lata', 'lahaina', 'usinsk', 'grindavik', 'santana do paraiso', 'karsun', 'badiraguato', 'palauig', 'cidreira', 'nikel', 'lavrentiya', 'yerbogachen', 'tamandare', 'dolinsk', 'kaitangata', 'necochea', 'sain alto', 'qaqortoq', 'nalut', 'ponta do sol', 'maluanluan', 'bindura', 'alyangula', 'port keats', 'hambantota', 'sibolga', 'dzhusaly', 'tilichiki', 'trincomalee', 'olafsvik', 'sumkino', 'tautira', 'grafton', 'chik', 'yeppoon', 'longkou', 'tidore', 'iguai', 'solnechnyy', 'attawapiskat', 'sibu', 'gezing', 'mabaruma', 'derzhavinsk', 'ovre ardal', 'jiangyou', 'murgab', 'fairview', 'canto do buriti', 'cognac', 'saravan', 'klaksvik', 'richards bay', 'tumannyy', 'erdenet', 'vozhega', 'saint-louis', 'daru', 'gotsu', 'hammerfest', 'zomin', 'ginir', 'umzimvubu', 'faya', 'catamarca', 'posse', 'podporozhye', 'braco do norte', 'sexsmith', 'broome', 'halalo', 'belyy yar', 'gunnedah', 'upernavik', 'honiara', 'micheweni', 'ahipara', 'sonda', 'cayenne', 'belaya gora', 'seredka', 'safakulevo', 'ketchikan', 'dawei', 'carman', 'rio claro', 'chateau-thierry', 'henties bay', 'jishou', 'longview', 'stornoway', 'pangkalanbuun', 'sale', 'champerico', 'paita', 'imeni poliny osipenko', 'ilhabela', 'samusu', 'namibe', 'fort nelson', 'arys', 'ampanihy', 'hudson', 'burica', 'moree', 'maidens', 'kalinovskaya', 'severo-kurilsk', 'banda aceh', 'batagay-alyta', 'ambilobe', 'mesaria', 'nyurba', 'thompson', 'coahuayana', 'wattegama', 'dharmavaram', 'vanimo', 'carbonia', 'jardim', 'miquelon', 'muravlenko', 'mandalay', 'matamoros', 'sabang', 'kaduqli', 'bosaso', 'fortuna', 'mackay', 'gornozavodsk', 'havre-saint-pierre', 'alta floresta', 'himeji', 'utiroa', 'najran', 'meulaboh', 'saurimo', 'damaturu', 'kichera', 'novooleksiyivka', 'candelaria', 'antofagasta', 'geresk', 'shingu', 'port moresby', 'parker', 'nadym', 'labutta', 'pauini', 'camopi', 'moerai', 'itacarambi', 'tamiahua', 'galveston', 'sanchi', 'ancud', 'biloela', 'bagdarin', 'eureka', 'san vicente', 'khategaon', 'tual', 'puerto palomas', 'paamiut', 'kjollefjord', 'springbok', 'wamba', 'stevens point', 'gemena', 'homer', 'shizunai', 'male', 'xam nua', 'razole', 'oxapampa', 'soria', 'zhuravky', 'armidale', 'krasnoselkup', 'acapulco', 'beyla', 'orasac', 'egvekinot', 'tenenkou', 'cabinda', 'sagua de tanamo', 'axim', 'burgersdorp', 'ojhar', 'martil', 'kostroma', 'bereda', 'cap malheureux', 'gamboula', 'san alberto', 'kenai', 'tororo', 'noumea', 'tocopilla', 'othonoi', 'paradwip', 'ilo', 'doctor pedro p. pena', 'duz', 'talcahuano', 'longlac', 'susaki', 'mitchell', 'zaysan', 'edd', 'dzaoudzi', 'sabha', 'manta', 'yuancheng', 'manokwari', 'atar', 'lorengau', 'alice springs', 'kabalo', 'wukari', 'jalu', 'kihei', 'tuim', 'karratha', 'front royal', 'andijon', 'san isidro', 'kawalu', 'alotau', 'kamiiso', 'chibuto', 'iroquois falls', 'ndola', 'mhlume', 'gladstone', 'nelson bay', 'dingle', 'chicama', 'berlevag', 'shitanjing', 'kingman', 'sobreira', 'cockburn town', 'macamic', 'klos', 'shimoda', 'tallahassee', 'talesh', 'bubaque', 'don sak', 'kavaratti', 'diffa', 'alice town', 'luderitz', 'beni', 'moses lake', 'deputatskiy', 'prince rupert', 'scalea', 'chandausi', 'sur', 'maloy', 'krasnoyarsk-45', 'olga', 'camacupa', 'kitimat', 'pacific grove', 'aksu', 'vanavara', 'toliary', 'chichica', 'santa fe', 'rudbar', 'mana', 'coffs harbour', 'raudeberg', 'ostrovnoy', 'san patricio', 'jamame', 'ourossogui', 'ijaki', 'kargasok', 'tukums', 'grand centre', 'constitucion', 'chaohu', 'davila']\n"
     ]
    }
   ],
   "source": [
    "# List for holding lat_lngs and cities\n",
    "lat_lngs = []\n",
    "cities = []\n",
    "\n",
    "# Create a set of random lat and lng combinations\n",
    "lats = np.random.uniform(lat_range[0], lat_range[1], size=1500)\n",
    "lngs = np.random.uniform(lng_range[0], lng_range[1], size=1500)\n",
    "lat_lngs = zip(lats, lngs)\n",
    "#print((list(lat_lngs)))\n",
    "\n",
    "# Identify nearest city for each lat, lng combination\n",
    "for lat_lng in lat_lngs:\n",
    "    city = citipy.nearest_city(lat_lng[0], lat_lng[1]).city_name\n",
    "    \n",
    "    # If the city is unique, then add it to a our cities list\n",
    "    if city not in cities:\n",
    "        cities.append(city)\n",
    "\n",
    "# Print the city count to confirm sufficient count\n",
    "len(cities)\n",
    "#print(cities)"
   ]
  },
  {
   "cell_type": "code",
   "execution_count": 25,
   "metadata": {},
   "outputs": [
    {
     "data": {
      "text/plain": [
       "['saskylakh', 'qaanaaq']"
      ]
     },
     "execution_count": 25,
     "metadata": {},
     "output_type": "execute_result"
    }
   ],
   "source": [
    "cities2=[]\n",
    "for i in range(2):\n",
    "    cities2.append(cities[i+2])\n",
    "cities2"
   ]
  },
  {
   "cell_type": "markdown",
   "metadata": {},
   "source": [
    "### Perform API Calls\n",
    "* Perform a weather check on each city using a series of successive API calls.\n",
    "* Include a print log of each city as it's being processed (with the city number and city name).\n"
   ]
  },
  {
   "cell_type": "code",
   "execution_count": 45,
   "metadata": {},
   "outputs": [
    {
     "name": "stdout",
     "output_type": "stream",
     "text": [
      "City vila not found. Skipping...\n",
      "Processing Record 1 | mataura\n",
      "Processing Record 2 | saskylakh\n",
      "Processing Record 3 | qaanaaq\n",
      "Processing Record 4 | svetlyy\n",
      "Processing Record 5 | rikitea\n",
      "Processing Record 6 | cascais\n",
      "Processing Record 7 | amderma\n",
      "Processing Record 8 | souillac\n",
      "Processing Record 9 | bonavista\n",
      "Processing Record 10 | nizhneyansk\n",
      "City pisco not found. Skipping...\n",
      "Processing Record 11 | kapaa\n",
      "Processing Record 12 | tsihombe\n",
      "Processing Record 13 | tuatapere\n",
      "City price not found. Skipping...\n",
      "Processing Record 14 | palembang\n",
      "Processing Record 15 | capitan bado\n",
      "Processing Record 16 | ushuaia\n",
      "Processing Record 17 | auki\n",
      "Processing Record 18 | tura\n",
      "Processing Record 19 | mys shmidta\n",
      "Processing Record 20 | calabozo\n",
      "Processing Record 21 | iqaluit\n",
      "Processing Record 22 | vila franca do campo\n",
      "Processing Record 23 | saint-philippe\n",
      "Processing Record 24 | makakilo city\n",
      "Processing Record 25 | cherskiy\n",
      "City butaritari not found. Skipping...\n",
      "Processing Record 26 | narsaq\n",
      "Processing Record 27 | skibbereen\n",
      "Processing Record 28 | palabuhanratu\n",
      "Processing Record 29 | santa rosa\n",
      "Processing Record 30 | muros\n",
      "Processing Record 31 | khatanga\n",
      "Processing Record 32 | bluff\n",
      "Processing Record 33 | sept-iles\n",
      "Processing Record 34 | hilo\n",
      "Processing Record 35 | albany\n",
      "Processing Record 36 | jamestown\n",
      "Processing Record 37 | vaini\n",
      "City barrow not found. Skipping...\n",
      "Processing Record 38 | mankachar\n",
      "Processing Record 39 | barentsburg\n",
      "Processing Record 40 | adrar\n",
      "Processing Record 41 | beringovskiy\n",
      "City castro not found. Skipping...\n",
      "Processing Record 42 | yvetot\n",
      "Processing Record 43 | coihaique\n",
      "Processing Record 44 | sioux lookout\n",
      "Processing Record 45 | new norfolk\n",
      "Processing Record 46 | port alfred\n",
      "Processing Record 47 | pimentel\n",
      "Processing Record 48 | airai\n",
      "Processing Record 49 | hovd\n",
      "Processing Record 50 | taolanaro\n",
      "Processing Record 51 | codrington\n",
      "Processing Record 52 | zhigansk\n",
      "Processing Record 53 | lagoa\n",
      "Processing Record 54 | shelburne\n",
      "Processing Record 55 | hermanus\n",
      "Processing Record 56 | vilhena\n",
      "Processing Record 57 | cape town\n",
      "Processing Record 58 | acarau\n",
      "Processing Record 59 | abu samrah\n",
      "Processing Record 60 | marystown\n",
      "City victoria not found. Skipping...\n",
      "Processing Record 61 | busselton\n",
      "Processing Record 62 | lebu\n",
      "City rio grande not found. Skipping...\n",
      "Processing Record 63 | nanortalik\n",
      "Processing Record 64 | ilulissat\n",
      "Processing Record 65 | iranshahr\n",
      "Processing Record 66 | sogdiondon\n",
      "Processing Record 67 | korla\n",
      "City vestmanna not found. Skipping...\n",
      "Processing Record 68 | tawkar\n",
      "Processing Record 69 | dikson\n",
      "Processing Record 70 | kaohsiung\n",
      "Processing Record 71 | yellowknife\n",
      "Processing Record 72 | mahebourg\n",
      "Processing Record 73 | sidvokodvo\n",
      "Processing Record 74 | arraial do cabo\n",
      "Processing Record 75 | puerto ayora\n",
      "Processing Record 76 | touros\n",
      "Processing Record 77 | ewa beach\n",
      "Processing Record 78 | bowen\n",
      "Processing Record 79 | tiksi\n",
      "Processing Record 80 | kisangani\n",
      "Processing Record 81 | mala\n",
      "Processing Record 82 | klichka\n",
      "Processing Record 83 | orsha\n",
      "Processing Record 84 | awjilah\n",
      "Processing Record 85 | bredasdorp\n",
      "Processing Record 86 | abrau-dyurso\n",
      "Processing Record 87 | east london\n",
      "City altay not found. Skipping...\n",
      "Processing Record 88 | inverness\n",
      "Processing Record 89 | dunedin\n",
      "Processing Record 90 | ubinskoye\n",
      "Processing Record 91 | malinyi\n",
      "Processing Record 92 | taltal\n",
      "City dolores not found. Skipping...\n",
      "Processing Record 93 | porto santo\n",
      "Processing Record 94 | port hardy\n",
      "Processing Record 95 | chuy\n",
      "Processing Record 96 | sistranda\n",
      "Processing Record 97 | provideniya\n",
      "City vao not found. Skipping...\n",
      "Processing Record 98 | marcona\n",
      "City lively not found. Skipping...\n",
      "Processing Record 99 | tasiilaq\n",
      "Processing Record 100 | kilindoni\n",
      "City avarua not found. Skipping...\n",
      "Processing Record 101 | san rafael\n",
      "Processing Record 102 | teluk nibung\n",
      "Processing Record 103 | camana\n",
      "Processing Record 104 | ambulu\n",
      "Processing Record 105 | saldanha\n",
      "Processing Record 106 | praia da vitoria\n",
      "Processing Record 107 | tezu\n",
      "Processing Record 108 | port lincoln\n",
      "City wencheng not found. Skipping...\n",
      "Processing Record 109 | gayny\n",
      "Processing Record 110 | turukhansk\n",
      "Processing Record 111 | punta arenas\n",
      "Processing Record 112 | buturlino\n",
      "Processing Record 113 | guerrero negro\n",
      "Processing Record 114 | poltar\n",
      "Processing Record 115 | isangel\n",
      "Processing Record 116 | develi\n",
      "Processing Record 117 | havoysund\n",
      "Processing Record 118 | faanui\n",
      "City bathsheba not found. Skipping...\n",
      "Processing Record 119 | zyryanka\n",
      "City seoul not found. Skipping...\n",
      "Processing Record 120 | katsuura\n",
      "Processing Record 121 | wilmington\n",
      "City kurilsk not found. Skipping...\n",
      "Processing Record 122 | taoudenni\n",
      "Processing Record 123 | huarmey\n",
      "City vostok not found. Skipping...\n",
      "Processing Record 124 | cabo san lucas\n",
      "Processing Record 125 | khonuu\n",
      "Processing Record 126 | rungata\n",
      "Processing Record 127 | halifax\n",
      "Processing Record 128 | koungou\n",
      "City la orilla not found. Skipping...\n",
      "Processing Record 129 | cedar city\n",
      "Processing Record 130 | nantucket\n",
      "Processing Record 131 | padang\n",
      "Processing Record 132 | tuktoyaktuk\n",
      "Processing Record 133 | barbar\n",
      "Processing Record 134 | hithadhoo\n",
      "Processing Record 135 | novikovo\n",
      "Processing Record 136 | umm kaddadah\n",
      "Processing Record 137 | kruisfontein\n",
      "Processing Record 138 | nemuro\n",
      "Processing Record 139 | port elizabeth\n",
      "Processing Record 140 | uvat\n",
      "Processing Record 141 | salekhard\n",
      "Processing Record 142 | oyama\n",
      "Processing Record 143 | mangrol\n",
      "Processing Record 144 | kodiak\n",
      "Processing Record 145 | jacareacanga\n",
      "Processing Record 146 | sambava\n",
      "Processing Record 147 | sao joao da barra\n",
      "Processing Record 148 | petropavlovsk-kamchatskiy\n",
      "Processing Record 149 | esperance\n",
      "Processing Record 150 | inongo\n",
      "Processing Record 151 | bethel\n",
      "Processing Record 152 | leningradskiy\n",
      "Processing Record 153 | bilibino\n",
      "Processing Record 154 | asfi\n",
      "Processing Record 155 | nuuk\n",
      "Processing Record 156 | agadez\n",
      "Processing Record 157 | port pirie\n",
      "Processing Record 158 | yuzhno-yeniseyskiy\n",
      "Processing Record 159 | grand river south east\n",
      "Processing Record 160 | porto novo\n",
      "Processing Record 161 | melendugno\n",
      "Processing Record 162 | san cristobal\n",
      "Processing Record 163 | te anau\n",
      "Processing Record 164 | portland\n",
      "Processing Record 165 | mar del plata\n",
      "Processing Record 166 | bambous virieux\n",
      "Processing Record 167 | palmas bellas\n",
      "Processing Record 168 | saint-francois\n",
      "Processing Record 169 | agva\n",
      "Processing Record 170 | anar darreh\n",
      "Processing Record 171 | chapais\n",
      "Processing Record 172 | hami\n",
      "Processing Record 173 | huanuco\n",
      "Processing Record 174 | aripuana\n",
      "Processing Record 175 | canton\n",
      "Processing Record 176 | vaitupu\n",
      "Processing Record 177 | bilsi\n",
      "Processing Record 178 | senanga\n",
      "Processing Record 179 | presidencia roque saenz pena\n",
      "Processing Record 180 | kulhudhuffushi\n",
      "Processing Record 181 | coruripe\n",
      "Processing Record 182 | torbay\n",
      "Processing Record 183 | novoyegoryevskoye\n",
      "Processing Record 184 | kasongo-lunda\n",
      "Processing Record 185 | zitiste\n",
      "City amga not found. Skipping...\n",
      "Processing Record 186 | yulara\n",
      "Processing Record 187 | vega de alatorre\n",
      "Processing Record 188 | bezhanitsy\n",
      "Processing Record 189 | buraydah\n",
      "City along not found. Skipping...\n",
      "Processing Record 190 | mayor pablo lagerenza\n",
      "Processing Record 191 | carahue\n",
      "Processing Record 192 | barra do garcas\n",
      "Processing Record 193 | monrovia\n",
      "Processing Record 194 | xinqing\n",
      "Processing Record 195 | haines junction\n",
      "Processing Record 196 | lethem\n",
      "Processing Record 197 | andilamena\n",
      "Processing Record 198 | kavieng\n",
      "Processing Record 199 | semnan\n",
      "City avera not found. Skipping...\n",
      "Processing Record 200 | salaga\n",
      "Processing Record 201 | houma\n",
      "City amapa not found. Skipping...\n",
      "Processing Record 202 | nome\n",
      "Processing Record 203 | nguiu\n",
      "Processing Record 204 | nikolskoye\n",
      "Processing Record 205 | altamira\n",
      "Processing Record 206 | norman wells\n",
      "City mount gambier not found. Skipping...\n",
      "Processing Record 207 | kysyl-syr\n",
      "Processing Record 208 | cockburn harbour\n",
      "Processing Record 209 | vardo\n",
      "Processing Record 210 | paliyad\n",
      "Processing Record 211 | humboldt\n",
      "Processing Record 212 | georgetown\n",
      "City gat not found. Skipping...\n",
      "Processing Record 213 | lompoc\n",
      "Processing Record 214 | chingirlau\n",
      "Processing Record 215 | chokurdakh\n",
      "Processing Record 216 | nouadhibou\n",
      "Processing Record 217 | rantauprapat\n",
      "Processing Record 218 | kirkland lake\n",
      "City fare not found. Skipping...\n",
      "Processing Record 219 | smirnykh\n",
      "Processing Record 220 | zabol\n",
      "Processing Record 221 | port hedland\n",
      "Processing Record 222 | cancun\n",
      "City saint george not found. Skipping...\n",
      "Processing Record 223 | geraldton\n",
      "City amnat charoen not found. Skipping...\n",
      "Processing Record 224 | penha\n",
      "City laurel not found. Skipping...\n",
      "Processing Record 225 | sitka\n",
      "Processing Record 226 | bone\n",
      "Processing Record 227 | kloulklubed\n",
      "Processing Record 228 | coquimbo\n",
      "Processing Record 229 | garden city\n",
      "Processing Record 230 | sentyabrskiy\n",
      "Processing Record 231 | hobart\n",
      "Processing Record 232 | hoquiam\n",
      "Processing Record 233 | punta gorda\n",
      "Processing Record 234 | severobaykalsk\n",
      "City inta not found. Skipping...\n",
      "Processing Record 235 | vila real de santo antonio\n",
      "Processing Record 236 | begunitsy\n",
      "Processing Record 237 | fayaoue\n",
      "Processing Record 238 | belushya guba\n",
      "Processing Record 239 | oktyabrskiy\n",
      "Processing Record 240 | maniitsoq\n",
      "Processing Record 241 | uroteppa\n",
      "Processing Record 242 | sorong\n",
      "Processing Record 243 | illoqqortoormiut\n",
      "Processing Record 244 | saleaula\n",
      "Processing Record 245 | marrakesh\n",
      "Processing Record 246 | mahajanga\n",
      "City yalta not found. Skipping...\n",
      "Processing Record 247 | udachnyy\n",
      "Processing Record 248 | brightwater\n",
      "City wuwei not found. Skipping...\n",
      "Processing Record 249 | shchigry\n",
      "Processing Record 250 | ler\n",
      "Processing Record 251 | itaituba\n",
      "Processing Record 252 | aklavik\n",
      "Processing Record 253 | balashov\n",
      "Processing Record 254 | douglas\n",
      "Processing Record 255 | beloha\n",
      "Processing Record 256 | mulanje\n",
      "Processing Record 257 | borovoy\n",
      "Processing Record 258 | carnarvon\n",
      "Processing Record 259 | balkanabat\n",
      "City husavik not found. Skipping...\n",
      "Processing Record 260 | sao filipe\n",
      "Processing Record 261 | cumaribo\n",
      "Processing Record 262 | belozerskoye\n",
      "Processing Record 263 | ribeira grande\n",
      "Processing Record 264 | manono\n",
      "Processing Record 265 | san carlos de bariloche\n",
      "Processing Record 266 | port hawkesbury\n",
      "Processing Record 267 | bloemfontein\n",
      "Processing Record 268 | aswan\n",
      "Processing Record 269 | winnemucca\n",
      "City rocha not found. Skipping...\n",
      "Processing Record 270 | haileybury\n",
      "Processing Record 271 | thunder bay\n",
      "City rassvet not found. Skipping...\n",
      "Processing Record 272 | jawhar\n",
      "Processing Record 273 | quatre cocos\n",
      "Processing Record 274 | longyearbyen\n",
      "Processing Record 275 | latung\n",
      "Processing Record 276 | newport\n",
      "Processing Record 277 | ondjiva\n",
      "Processing Record 278 | pevek\n",
      "Processing Record 279 | asau\n",
      "Processing Record 280 | nanakuli\n",
      "Processing Record 281 | albertville\n",
      "Processing Record 282 | kodinsk\n",
      "City sangar not found. Skipping...\n",
      "Processing Record 283 | oro valley\n",
      "Processing Record 284 | iwade\n",
      "Processing Record 285 | honningsvag\n",
      "Processing Record 286 | umm lajj\n",
      "Processing Record 287 | naze\n",
      "City samarai not found. Skipping...\n",
      "City emerald not found. Skipping...\n",
      "Processing Record 288 | sinnamary\n",
      "Processing Record 289 | biak\n",
      "Processing Record 290 | kazalinsk\n",
      "Processing Record 291 | san quintin\n",
      "City hofn not found. Skipping...\n",
      "Processing Record 292 | la puebla de cazalla\n",
      "Processing Record 293 | srednekolymsk\n",
      "Processing Record 294 | muroto\n",
      "Processing Record 295 | contai\n",
      "Processing Record 296 | itoman\n",
      "Processing Record 297 | tutoia\n",
      "Processing Record 298 | mandapam\n",
      "Processing Record 299 | shanghai\n",
      "Processing Record 300 | meyungs\n",
      "Processing Record 301 | atuona\n",
      "Processing Record 302 | vysokogornyy\n",
      "Processing Record 303 | hirado\n",
      "Processing Record 304 | tabiauea\n",
      "Processing Record 305 | dien bien\n",
      "Processing Record 306 | antalaha\n",
      "Processing Record 307 | kahului\n",
      "City liverpool not found. Skipping...\n",
      "Processing Record 308 | marquette\n",
      "Processing Record 309 | hasaki\n",
      "Processing Record 310 | ormara\n",
      "Processing Record 311 | glendive\n",
      "Processing Record 312 | clyde river\n",
      "City college not found. Skipping...\n",
      "Processing Record 313 | puerto escondido\n",
      "Processing Record 314 | hobyo\n",
      "City lata not found. Skipping...\n",
      "Processing Record 315 | lahaina\n",
      "Processing Record 316 | usinsk\n",
      "City grindavik not found. Skipping...\n",
      "Processing Record 317 | santana do paraiso\n",
      "Processing Record 318 | karsun\n",
      "Processing Record 319 | badiraguato\n",
      "Processing Record 320 | palauig\n",
      "Processing Record 321 | cidreira\n",
      "Processing Record 322 | nikel\n",
      "Processing Record 323 | lavrentiya\n",
      "Processing Record 324 | yerbogachen\n",
      "Processing Record 325 | tamandare\n",
      "Processing Record 326 | dolinsk\n",
      "Processing Record 327 | kaitangata\n",
      "Processing Record 328 | necochea\n",
      "Processing Record 329 | sain alto\n",
      "Processing Record 330 | qaqortoq\n",
      "Processing Record 331 | nalut\n",
      "Processing Record 332 | ponta do sol\n",
      "Processing Record 333 | maluanluan\n",
      "Processing Record 334 | bindura\n",
      "Processing Record 335 | alyangula\n",
      "Processing Record 336 | port keats\n",
      "Processing Record 337 | hambantota\n",
      "Processing Record 338 | sibolga\n",
      "Processing Record 339 | dzhusaly\n",
      "Processing Record 340 | tilichiki\n",
      "Processing Record 341 | trincomalee\n",
      "City olafsvik not found. Skipping...\n",
      "Processing Record 342 | sumkino\n",
      "Processing Record 343 | tautira\n",
      "Processing Record 344 | grafton\n",
      "City chik not found. Skipping...\n",
      "Processing Record 345 | yeppoon\n",
      "Processing Record 346 | longkou\n",
      "Processing Record 347 | tidore\n",
      "Processing Record 348 | iguai\n",
      "Processing Record 349 | solnechnyy\n",
      "Processing Record 350 | attawapiskat\n",
      "Processing Record 351 | sibu\n",
      "Processing Record 352 | gezing\n",
      "Processing Record 353 | mabaruma\n",
      "Processing Record 354 | derzhavinsk\n",
      "Processing Record 355 | ovre ardal\n",
      "Processing Record 356 | jiangyou\n",
      "Processing Record 357 | murgab\n",
      "City fairview not found. Skipping...\n",
      "Processing Record 358 | canto do buriti\n",
      "City cognac not found. Skipping...\n",
      "Processing Record 359 | saravan\n",
      "Processing Record 360 | klaksvik\n",
      "Processing Record 361 | richards bay\n",
      "Processing Record 362 | tumannyy\n",
      "Processing Record 363 | erdenet\n",
      "Processing Record 364 | vozhega\n",
      "Processing Record 365 | saint-louis\n",
      "Processing Record 366 | daru\n",
      "Processing Record 367 | gotsu\n",
      "Processing Record 368 | hammerfest\n",
      "Processing Record 369 | zomin\n",
      "Processing Record 370 | ginir\n",
      "Processing Record 371 | umzimvubu\n",
      "Processing Record 372 | faya\n",
      "Processing Record 373 | catamarca\n",
      "City posse not found. Skipping...\n",
      "Processing Record 374 | podporozhye\n",
      "Processing Record 375 | braco do norte\n",
      "Processing Record 376 | sexsmith\n",
      "Processing Record 377 | broome\n",
      "Processing Record 378 | halalo\n",
      "Processing Record 379 | belyy yar\n",
      "Processing Record 380 | gunnedah\n",
      "Processing Record 381 | upernavik\n",
      "Processing Record 382 | honiara\n",
      "Processing Record 383 | micheweni\n",
      "Processing Record 384 | ahipara\n",
      "Processing Record 385 | sonda\n",
      "Processing Record 386 | cayenne\n",
      "Processing Record 387 | belaya gora\n",
      "Processing Record 388 | seredka\n",
      "Processing Record 389 | safakulevo\n",
      "Processing Record 390 | ketchikan\n",
      "Processing Record 391 | dawei\n",
      "City carman not found. Skipping...\n",
      "Processing Record 392 | rio claro\n",
      "Processing Record 393 | chateau-thierry\n",
      "Processing Record 394 | henties bay\n",
      "Processing Record 395 | jishou\n",
      "Processing Record 396 | longview\n",
      "Processing Record 397 | stornoway\n",
      "Processing Record 398 | pangkalanbuun\n",
      "City sale not found. Skipping...\n",
      "Processing Record 399 | champerico\n",
      "Processing Record 400 | paita\n",
      "Processing Record 401 | imeni poliny osipenko\n",
      "Processing Record 402 | ilhabela\n",
      "Processing Record 403 | samusu\n",
      "Processing Record 404 | namibe\n",
      "Processing Record 405 | fort nelson\n",
      "City arys not found. Skipping...\n",
      "Processing Record 406 | ampanihy\n",
      "Processing Record 407 | hudson\n",
      "Processing Record 408 | burica\n",
      "Processing Record 409 | moree\n",
      "Processing Record 410 | maidens\n",
      "Processing Record 411 | kalinovskaya\n",
      "Processing Record 412 | severo-kurilsk\n",
      "Processing Record 413 | banda aceh\n",
      "Processing Record 414 | batagay-alyta\n",
      "Processing Record 415 | ambilobe\n",
      "Processing Record 416 | mesaria\n",
      "Processing Record 417 | nyurba\n",
      "Processing Record 418 | thompson\n",
      "Processing Record 419 | coahuayana\n",
      "Processing Record 420 | wattegama\n",
      "Processing Record 421 | dharmavaram\n",
      "Processing Record 422 | vanimo\n",
      "Processing Record 423 | carbonia\n",
      "Processing Record 424 | jardim\n",
      "City miquelon not found. Skipping...\n",
      "Processing Record 425 | muravlenko\n",
      "Processing Record 426 | mandalay\n",
      "Processing Record 427 | matamoros\n",
      "Processing Record 428 | sabang\n",
      "Processing Record 429 | kaduqli\n",
      "Processing Record 430 | bosaso\n",
      "Processing Record 431 | fortuna\n",
      "Processing Record 432 | mackay\n",
      "Processing Record 433 | gornozavodsk\n",
      "Processing Record 434 | havre-saint-pierre\n",
      "Processing Record 435 | alta floresta\n",
      "Processing Record 436 | himeji\n",
      "Processing Record 437 | utiroa\n",
      "Processing Record 438 | najran\n",
      "Processing Record 439 | meulaboh\n",
      "Processing Record 440 | saurimo\n",
      "Processing Record 441 | damaturu\n",
      "Processing Record 442 | kichera\n",
      "Processing Record 443 | novooleksiyivka\n",
      "Processing Record 444 | candelaria\n",
      "Processing Record 445 | antofagasta\n",
      "Processing Record 446 | geresk\n",
      "Processing Record 447 | shingu\n",
      "Processing Record 448 | port moresby\n",
      "City parker not found. Skipping...\n",
      "Processing Record 449 | nadym\n",
      "Processing Record 450 | labutta\n",
      "Processing Record 451 | pauini\n",
      "Processing Record 452 | camopi\n",
      "Processing Record 453 | moerai\n",
      "Processing Record 454 | itacarambi\n",
      "Processing Record 455 | tamiahua\n",
      "Processing Record 456 | galveston\n",
      "Processing Record 457 | sanchi\n",
      "Processing Record 458 | ancud\n",
      "Processing Record 459 | biloela\n",
      "Processing Record 460 | bagdarin\n",
      "City eureka not found. Skipping...\n",
      "Processing Record 461 | san vicente\n",
      "Processing Record 462 | khategaon\n",
      "Processing Record 463 | tual\n",
      "Processing Record 464 | puerto palomas\n",
      "Processing Record 465 | paamiut\n",
      "Processing Record 466 | kjollefjord\n",
      "City springbok not found. Skipping...\n",
      "Processing Record 467 | wamba\n",
      "Processing Record 468 | stevens point\n",
      "Processing Record 469 | gemena\n",
      "City homer not found. Skipping...\n",
      "Processing Record 470 | shizunai\n",
      "Processing Record 471 | male\n",
      "Processing Record 472 | xam nua\n",
      "Processing Record 473 | razole\n",
      "Processing Record 474 | oxapampa\n",
      "Processing Record 475 | soria\n",
      "City zhuravky not found. Skipping...\n",
      "Processing Record 476 | armidale\n",
      "Processing Record 477 | krasnoselkup\n",
      "Processing Record 478 | acapulco\n",
      "Processing Record 479 | beyla\n",
      "Processing Record 480 | orasac\n",
      "Processing Record 481 | egvekinot\n",
      "Processing Record 482 | tenenkou\n",
      "Processing Record 483 | cabinda\n",
      "Processing Record 484 | sagua de tanamo\n",
      "Processing Record 485 | axim\n",
      "Processing Record 486 | burgersdorp\n",
      "Processing Record 487 | ojhar\n",
      "Processing Record 488 | martil\n",
      "Processing Record 489 | kostroma\n",
      "Processing Record 490 | bereda\n",
      "Processing Record 491 | cap malheureux\n",
      "Processing Record 492 | gamboula\n",
      "Processing Record 493 | san alberto\n",
      "Processing Record 494 | kenai\n",
      "Processing Record 495 | tororo\n",
      "Processing Record 496 | noumea\n",
      "Processing Record 497 | tocopilla\n",
      "Processing Record 498 | othonoi\n",
      "Processing Record 499 | paradwip\n",
      "City ilo not found. Skipping...\n",
      "Processing Record 500 | doctor pedro p. pena\n",
      "500 cities is enough\n"
     ]
    }
   ],
   "source": [
    "cities_list=[]\n",
    "lat_list=[]\n",
    "lng_list=[]\n",
    "temp_list=[]\n",
    "humi_list=[]\n",
    "clou_list=[]\n",
    "wind_list=[]\n",
    "coun_list=[]\n",
    "date_list=[]\n",
    "i=1\n",
    "we_url='https://api.openweathermap.org/data/2.5/weather?'\n",
    "ge_url='https://maps.googleapis.com/maps/api/geocode/json?'\n",
    "for city in cities:\n",
    "    ge_params={\n",
    "        'address':city,\n",
    "        'key':g_key\n",
    "    }\n",
    "    city_js=requests.get(ge_url,params=ge_params).json()\n",
    "    try:\n",
    "        \n",
    "        lat=city_js['results'][0]['geometry']['location']['lat']\n",
    "        lng=city_js['results'][0]['geometry']['location']['lng']\n",
    "        country=city_js['results'][0]['address_components'][2]['long_name']\n",
    "        cities_list.append(city)\n",
    "        lat_list.append(lat)\n",
    "        lng_list.append(lng)\n",
    "        coun_list.append(country)\n",
    "    except:\n",
    "        print(f'City {city} not found. Skipping...')\n",
    "        continue\n",
    "\n",
    "    we_params={\n",
    "        'lat':lat,\n",
    "        'lon':lng,\n",
    "        'units':'metric',\n",
    "        'appid':weather_api_key\n",
    "    }\n",
    "    weather_js=requests.get(we_url,params=we_params).json()\n",
    "    try:\n",
    "        temp=weather_js['main']['temp_max']\n",
    "        humi=weather_js['main']['humidity']\n",
    "        clou=weather_js['clouds']['all']\n",
    "        wind=weather_js['wind']['speed']\n",
    "        date=weather_js['dt']\n",
    "        temp_list.append(temp)\n",
    "        humi_list.append(humi)\n",
    "        clou_list.append(clou)\n",
    "        wind_list.append(wind)\n",
    "        date_list.append(date)\n",
    "    except:\n",
    "        print(f'City {city} weather not found. Skipping...')\n",
    "        continue\n",
    "    print(f'Processing Record {i} | {city}')\n",
    "    i=i+1\n",
    "    if (i > 500):\n",
    "        print(f'500 cities is enough')\n",
    "        break\n"
   ]
  },
  {
   "cell_type": "markdown",
   "metadata": {},
   "source": [
    "### Convert Raw Data to DataFrame\n",
    "* Export the city data into a .csv.\n",
    "* Display the DataFrame"
   ]
  },
  {
   "cell_type": "code",
   "execution_count": 47,
   "metadata": {},
   "outputs": [
    {
     "data": {
      "text/html": [
       "<div>\n",
       "<style scoped>\n",
       "    .dataframe tbody tr th:only-of-type {\n",
       "        vertical-align: middle;\n",
       "    }\n",
       "\n",
       "    .dataframe tbody tr th {\n",
       "        vertical-align: top;\n",
       "    }\n",
       "\n",
       "    .dataframe thead th {\n",
       "        text-align: right;\n",
       "    }\n",
       "</style>\n",
       "<table border=\"1\" class=\"dataframe\">\n",
       "  <thead>\n",
       "    <tr style=\"text-align: right;\">\n",
       "      <th></th>\n",
       "      <th>City</th>\n",
       "      <th>Lat</th>\n",
       "      <th>Lng</th>\n",
       "      <th>Max Temp</th>\n",
       "      <th>Humidity</th>\n",
       "      <th>Cloudiness</th>\n",
       "      <th>Wind Speed</th>\n",
       "      <th>Country</th>\n",
       "      <th>Date</th>\n",
       "    </tr>\n",
       "  </thead>\n",
       "  <tbody>\n",
       "    <tr>\n",
       "      <th>0</th>\n",
       "      <td>mataura</td>\n",
       "      <td>-46.193952</td>\n",
       "      <td>168.865478</td>\n",
       "      <td>8.60</td>\n",
       "      <td>95</td>\n",
       "      <td>61</td>\n",
       "      <td>0.76</td>\n",
       "      <td>New Zealand</td>\n",
       "      <td>1662708397</td>\n",
       "    </tr>\n",
       "    <tr>\n",
       "      <th>1</th>\n",
       "      <td>saskylakh</td>\n",
       "      <td>71.954308</td>\n",
       "      <td>114.119835</td>\n",
       "      <td>4.32</td>\n",
       "      <td>97</td>\n",
       "      <td>100</td>\n",
       "      <td>5.76</td>\n",
       "      <td>Sakha Republic</td>\n",
       "      <td>1662708398</td>\n",
       "    </tr>\n",
       "    <tr>\n",
       "      <th>2</th>\n",
       "      <td>qaanaaq</td>\n",
       "      <td>77.467043</td>\n",
       "      <td>-69.228483</td>\n",
       "      <td>-2.61</td>\n",
       "      <td>74</td>\n",
       "      <td>10</td>\n",
       "      <td>3.12</td>\n",
       "      <td>Greenland</td>\n",
       "      <td>1662708399</td>\n",
       "    </tr>\n",
       "    <tr>\n",
       "      <th>3</th>\n",
       "      <td>svetlyy</td>\n",
       "      <td>50.820238</td>\n",
       "      <td>60.851560</td>\n",
       "      <td>17.19</td>\n",
       "      <td>28</td>\n",
       "      <td>100</td>\n",
       "      <td>5.15</td>\n",
       "      <td>Orenburg Oblast</td>\n",
       "      <td>1662708400</td>\n",
       "    </tr>\n",
       "    <tr>\n",
       "      <th>4</th>\n",
       "      <td>rikitea</td>\n",
       "      <td>-23.122303</td>\n",
       "      <td>-134.969154</td>\n",
       "      <td>22.69</td>\n",
       "      <td>69</td>\n",
       "      <td>0</td>\n",
       "      <td>9.08</td>\n",
       "      <td>The Tuamotu and Gambier Islands</td>\n",
       "      <td>1662708401</td>\n",
       "    </tr>\n",
       "    <tr>\n",
       "      <th>...</th>\n",
       "      <td>...</td>\n",
       "      <td>...</td>\n",
       "      <td>...</td>\n",
       "      <td>...</td>\n",
       "      <td>...</td>\n",
       "      <td>...</td>\n",
       "      <td>...</td>\n",
       "      <td>...</td>\n",
       "      <td>...</td>\n",
       "    </tr>\n",
       "    <tr>\n",
       "      <th>495</th>\n",
       "      <td>noumea</td>\n",
       "      <td>-22.273491</td>\n",
       "      <td>166.448089</td>\n",
       "      <td>24.27</td>\n",
       "      <td>99</td>\n",
       "      <td>100</td>\n",
       "      <td>3.56</td>\n",
       "      <td>New Caledonia</td>\n",
       "      <td>1662709009</td>\n",
       "    </tr>\n",
       "    <tr>\n",
       "      <th>496</th>\n",
       "      <td>tocopilla</td>\n",
       "      <td>-22.088678</td>\n",
       "      <td>-70.196054</td>\n",
       "      <td>14.12</td>\n",
       "      <td>71</td>\n",
       "      <td>20</td>\n",
       "      <td>1.86</td>\n",
       "      <td>Tocopilla Province</td>\n",
       "      <td>1662709010</td>\n",
       "    </tr>\n",
       "    <tr>\n",
       "      <th>497</th>\n",
       "      <td>othonoi</td>\n",
       "      <td>39.841793</td>\n",
       "      <td>19.406447</td>\n",
       "      <td>27.76</td>\n",
       "      <td>80</td>\n",
       "      <td>0</td>\n",
       "      <td>7.59</td>\n",
       "      <td>Greece</td>\n",
       "      <td>1662709011</td>\n",
       "    </tr>\n",
       "    <tr>\n",
       "      <th>498</th>\n",
       "      <td>paradwip</td>\n",
       "      <td>20.316552</td>\n",
       "      <td>86.611363</td>\n",
       "      <td>30.22</td>\n",
       "      <td>75</td>\n",
       "      <td>86</td>\n",
       "      <td>8.86</td>\n",
       "      <td>Odisha</td>\n",
       "      <td>1662709012</td>\n",
       "    </tr>\n",
       "    <tr>\n",
       "      <th>499</th>\n",
       "      <td>doctor pedro p. pena</td>\n",
       "      <td>-22.450000</td>\n",
       "      <td>-62.350000</td>\n",
       "      <td>20.45</td>\n",
       "      <td>33</td>\n",
       "      <td>0</td>\n",
       "      <td>7.21</td>\n",
       "      <td>Boquerón department</td>\n",
       "      <td>1662709013</td>\n",
       "    </tr>\n",
       "  </tbody>\n",
       "</table>\n",
       "<p>500 rows × 9 columns</p>\n",
       "</div>"
      ],
      "text/plain": [
       "                     City        Lat         Lng  Max Temp  Humidity  \\\n",
       "0                 mataura -46.193952  168.865478      8.60        95   \n",
       "1               saskylakh  71.954308  114.119835      4.32        97   \n",
       "2                 qaanaaq  77.467043  -69.228483     -2.61        74   \n",
       "3                 svetlyy  50.820238   60.851560     17.19        28   \n",
       "4                 rikitea -23.122303 -134.969154     22.69        69   \n",
       "..                    ...        ...         ...       ...       ...   \n",
       "495                noumea -22.273491  166.448089     24.27        99   \n",
       "496             tocopilla -22.088678  -70.196054     14.12        71   \n",
       "497               othonoi  39.841793   19.406447     27.76        80   \n",
       "498              paradwip  20.316552   86.611363     30.22        75   \n",
       "499  doctor pedro p. pena -22.450000  -62.350000     20.45        33   \n",
       "\n",
       "     Cloudiness  Wind Speed                          Country        Date  \n",
       "0            61        0.76                      New Zealand  1662708397  \n",
       "1           100        5.76                   Sakha Republic  1662708398  \n",
       "2            10        3.12                        Greenland  1662708399  \n",
       "3           100        5.15                  Orenburg Oblast  1662708400  \n",
       "4             0        9.08  The Tuamotu and Gambier Islands  1662708401  \n",
       "..          ...         ...                              ...         ...  \n",
       "495         100        3.56                    New Caledonia  1662709009  \n",
       "496          20        1.86               Tocopilla Province  1662709010  \n",
       "497           0        7.59                           Greece  1662709011  \n",
       "498          86        8.86                           Odisha  1662709012  \n",
       "499           0        7.21              Boquerón department  1662709013  \n",
       "\n",
       "[500 rows x 9 columns]"
      ]
     },
     "execution_count": 47,
     "metadata": {},
     "output_type": "execute_result"
    }
   ],
   "source": [
    "cities_df=pd.DataFrame({'City':cities_list,'Lat':lat_list,'Lng':lng_list,'Max Temp':temp_list,'Humidity':humi_list,'Cloudiness':clou_list,'Wind Speed':wind_list,'Country':coun_list,'Date':date_list}) \n",
    "\n",
    "cities_df.to_csv(output_data_file)\n",
    "cities_df"
   ]
  },
  {
   "cell_type": "code",
   "execution_count": 48,
   "metadata": {},
   "outputs": [
    {
     "data": {
      "text/html": [
       "<div>\n",
       "<style scoped>\n",
       "    .dataframe tbody tr th:only-of-type {\n",
       "        vertical-align: middle;\n",
       "    }\n",
       "\n",
       "    .dataframe tbody tr th {\n",
       "        vertical-align: top;\n",
       "    }\n",
       "\n",
       "    .dataframe thead th {\n",
       "        text-align: right;\n",
       "    }\n",
       "</style>\n",
       "<table border=\"1\" class=\"dataframe\">\n",
       "  <thead>\n",
       "    <tr style=\"text-align: right;\">\n",
       "      <th></th>\n",
       "      <th>Lat</th>\n",
       "      <th>Lng</th>\n",
       "      <th>Max Temp</th>\n",
       "      <th>Humidity</th>\n",
       "      <th>Cloudiness</th>\n",
       "      <th>Wind Speed</th>\n",
       "      <th>Date</th>\n",
       "    </tr>\n",
       "  </thead>\n",
       "  <tbody>\n",
       "    <tr>\n",
       "      <th>count</th>\n",
       "      <td>500.000000</td>\n",
       "      <td>500.000000</td>\n",
       "      <td>500.000000</td>\n",
       "      <td>500.000000</td>\n",
       "      <td>500.000000</td>\n",
       "      <td>500.000000</td>\n",
       "      <td>5.000000e+02</td>\n",
       "    </tr>\n",
       "    <tr>\n",
       "      <th>mean</th>\n",
       "      <td>21.188046</td>\n",
       "      <td>14.328619</td>\n",
       "      <td>19.820840</td>\n",
       "      <td>70.200000</td>\n",
       "      <td>52.172000</td>\n",
       "      <td>3.593820</td>\n",
       "      <td>1.662709e+09</td>\n",
       "    </tr>\n",
       "    <tr>\n",
       "      <th>std</th>\n",
       "      <td>33.169941</td>\n",
       "      <td>92.928450</td>\n",
       "      <td>8.401345</td>\n",
       "      <td>21.526979</td>\n",
       "      <td>41.497597</td>\n",
       "      <td>2.509336</td>\n",
       "      <td>1.883805e+02</td>\n",
       "    </tr>\n",
       "    <tr>\n",
       "      <th>min</th>\n",
       "      <td>-54.801912</td>\n",
       "      <td>-179.412597</td>\n",
       "      <td>-2.610000</td>\n",
       "      <td>6.000000</td>\n",
       "      <td>0.000000</td>\n",
       "      <td>0.000000</td>\n",
       "      <td>1.662708e+09</td>\n",
       "    </tr>\n",
       "    <tr>\n",
       "      <th>25%</th>\n",
       "      <td>-7.762243</td>\n",
       "      <td>-68.538041</td>\n",
       "      <td>13.420000</td>\n",
       "      <td>60.000000</td>\n",
       "      <td>4.000000</td>\n",
       "      <td>1.740000</td>\n",
       "      <td>1.662709e+09</td>\n",
       "    </tr>\n",
       "    <tr>\n",
       "      <th>50%</th>\n",
       "      <td>25.314721</td>\n",
       "      <td>24.172966</td>\n",
       "      <td>21.270000</td>\n",
       "      <td>75.000000</td>\n",
       "      <td>57.500000</td>\n",
       "      <td>3.095000</td>\n",
       "      <td>1.662709e+09</td>\n",
       "    </tr>\n",
       "    <tr>\n",
       "      <th>75%</th>\n",
       "      <td>49.649611</td>\n",
       "      <td>90.241738</td>\n",
       "      <td>26.027500</td>\n",
       "      <td>87.000000</td>\n",
       "      <td>99.000000</td>\n",
       "      <td>5.077500</td>\n",
       "      <td>1.662709e+09</td>\n",
       "    </tr>\n",
       "    <tr>\n",
       "      <th>max</th>\n",
       "      <td>78.223172</td>\n",
       "      <td>179.348539</td>\n",
       "      <td>38.340000</td>\n",
       "      <td>100.000000</td>\n",
       "      <td>100.000000</td>\n",
       "      <td>13.440000</td>\n",
       "      <td>1.662709e+09</td>\n",
       "    </tr>\n",
       "  </tbody>\n",
       "</table>\n",
       "</div>"
      ],
      "text/plain": [
       "              Lat         Lng    Max Temp    Humidity  Cloudiness  Wind Speed  \\\n",
       "count  500.000000  500.000000  500.000000  500.000000  500.000000  500.000000   \n",
       "mean    21.188046   14.328619   19.820840   70.200000   52.172000    3.593820   \n",
       "std     33.169941   92.928450    8.401345   21.526979   41.497597    2.509336   \n",
       "min    -54.801912 -179.412597   -2.610000    6.000000    0.000000    0.000000   \n",
       "25%     -7.762243  -68.538041   13.420000   60.000000    4.000000    1.740000   \n",
       "50%     25.314721   24.172966   21.270000   75.000000   57.500000    3.095000   \n",
       "75%     49.649611   90.241738   26.027500   87.000000   99.000000    5.077500   \n",
       "max     78.223172  179.348539   38.340000  100.000000  100.000000   13.440000   \n",
       "\n",
       "               Date  \n",
       "count  5.000000e+02  \n",
       "mean   1.662709e+09  \n",
       "std    1.883805e+02  \n",
       "min    1.662708e+09  \n",
       "25%    1.662709e+09  \n",
       "50%    1.662709e+09  \n",
       "75%    1.662709e+09  \n",
       "max    1.662709e+09  "
      ]
     },
     "execution_count": 48,
     "metadata": {},
     "output_type": "execute_result"
    }
   ],
   "source": [
    "cities_df.describe()"
   ]
  },
  {
   "cell_type": "markdown",
   "metadata": {},
   "source": [
    "## Inspect the data and remove the cities where the humidity > 100%.\n",
    "----\n",
    "Skip this step if there are no cities that have humidity > 100%. "
   ]
  },
  {
   "cell_type": "code",
   "execution_count": 56,
   "metadata": {},
   "outputs": [],
   "source": [
    "#  Get the indices of cities that have humidity over 100%.\n",
    "clean_city_data=cities_df.loc[cities_df['Humidity']<=100]\n"
   ]
  },
  {
   "cell_type": "code",
   "execution_count": 57,
   "metadata": {},
   "outputs": [
    {
     "data": {
      "text/html": [
       "<div>\n",
       "<style scoped>\n",
       "    .dataframe tbody tr th:only-of-type {\n",
       "        vertical-align: middle;\n",
       "    }\n",
       "\n",
       "    .dataframe tbody tr th {\n",
       "        vertical-align: top;\n",
       "    }\n",
       "\n",
       "    .dataframe thead th {\n",
       "        text-align: right;\n",
       "    }\n",
       "</style>\n",
       "<table border=\"1\" class=\"dataframe\">\n",
       "  <thead>\n",
       "    <tr style=\"text-align: right;\">\n",
       "      <th></th>\n",
       "      <th>City</th>\n",
       "      <th>Lat</th>\n",
       "      <th>Lng</th>\n",
       "      <th>Max Temp</th>\n",
       "      <th>Humidity</th>\n",
       "      <th>Cloudiness</th>\n",
       "      <th>Wind Speed</th>\n",
       "      <th>Country</th>\n",
       "      <th>Date</th>\n",
       "    </tr>\n",
       "  </thead>\n",
       "  <tbody>\n",
       "    <tr>\n",
       "      <th>0</th>\n",
       "      <td>mataura</td>\n",
       "      <td>-46.193952</td>\n",
       "      <td>168.865478</td>\n",
       "      <td>8.60</td>\n",
       "      <td>95</td>\n",
       "      <td>61</td>\n",
       "      <td>0.76</td>\n",
       "      <td>New Zealand</td>\n",
       "      <td>1662708397</td>\n",
       "    </tr>\n",
       "    <tr>\n",
       "      <th>1</th>\n",
       "      <td>saskylakh</td>\n",
       "      <td>71.954308</td>\n",
       "      <td>114.119835</td>\n",
       "      <td>4.32</td>\n",
       "      <td>97</td>\n",
       "      <td>100</td>\n",
       "      <td>5.76</td>\n",
       "      <td>Sakha Republic</td>\n",
       "      <td>1662708398</td>\n",
       "    </tr>\n",
       "    <tr>\n",
       "      <th>2</th>\n",
       "      <td>qaanaaq</td>\n",
       "      <td>77.467043</td>\n",
       "      <td>-69.228483</td>\n",
       "      <td>-2.61</td>\n",
       "      <td>74</td>\n",
       "      <td>10</td>\n",
       "      <td>3.12</td>\n",
       "      <td>Greenland</td>\n",
       "      <td>1662708399</td>\n",
       "    </tr>\n",
       "    <tr>\n",
       "      <th>3</th>\n",
       "      <td>svetlyy</td>\n",
       "      <td>50.820238</td>\n",
       "      <td>60.851560</td>\n",
       "      <td>17.19</td>\n",
       "      <td>28</td>\n",
       "      <td>100</td>\n",
       "      <td>5.15</td>\n",
       "      <td>Orenburg Oblast</td>\n",
       "      <td>1662708400</td>\n",
       "    </tr>\n",
       "    <tr>\n",
       "      <th>4</th>\n",
       "      <td>rikitea</td>\n",
       "      <td>-23.122303</td>\n",
       "      <td>-134.969154</td>\n",
       "      <td>22.69</td>\n",
       "      <td>69</td>\n",
       "      <td>0</td>\n",
       "      <td>9.08</td>\n",
       "      <td>The Tuamotu and Gambier Islands</td>\n",
       "      <td>1662708401</td>\n",
       "    </tr>\n",
       "    <tr>\n",
       "      <th>...</th>\n",
       "      <td>...</td>\n",
       "      <td>...</td>\n",
       "      <td>...</td>\n",
       "      <td>...</td>\n",
       "      <td>...</td>\n",
       "      <td>...</td>\n",
       "      <td>...</td>\n",
       "      <td>...</td>\n",
       "      <td>...</td>\n",
       "    </tr>\n",
       "    <tr>\n",
       "      <th>495</th>\n",
       "      <td>noumea</td>\n",
       "      <td>-22.273491</td>\n",
       "      <td>166.448089</td>\n",
       "      <td>24.27</td>\n",
       "      <td>99</td>\n",
       "      <td>100</td>\n",
       "      <td>3.56</td>\n",
       "      <td>New Caledonia</td>\n",
       "      <td>1662709009</td>\n",
       "    </tr>\n",
       "    <tr>\n",
       "      <th>496</th>\n",
       "      <td>tocopilla</td>\n",
       "      <td>-22.088678</td>\n",
       "      <td>-70.196054</td>\n",
       "      <td>14.12</td>\n",
       "      <td>71</td>\n",
       "      <td>20</td>\n",
       "      <td>1.86</td>\n",
       "      <td>Tocopilla Province</td>\n",
       "      <td>1662709010</td>\n",
       "    </tr>\n",
       "    <tr>\n",
       "      <th>497</th>\n",
       "      <td>othonoi</td>\n",
       "      <td>39.841793</td>\n",
       "      <td>19.406447</td>\n",
       "      <td>27.76</td>\n",
       "      <td>80</td>\n",
       "      <td>0</td>\n",
       "      <td>7.59</td>\n",
       "      <td>Greece</td>\n",
       "      <td>1662709011</td>\n",
       "    </tr>\n",
       "    <tr>\n",
       "      <th>498</th>\n",
       "      <td>paradwip</td>\n",
       "      <td>20.316552</td>\n",
       "      <td>86.611363</td>\n",
       "      <td>30.22</td>\n",
       "      <td>75</td>\n",
       "      <td>86</td>\n",
       "      <td>8.86</td>\n",
       "      <td>Odisha</td>\n",
       "      <td>1662709012</td>\n",
       "    </tr>\n",
       "    <tr>\n",
       "      <th>499</th>\n",
       "      <td>doctor pedro p. pena</td>\n",
       "      <td>-22.450000</td>\n",
       "      <td>-62.350000</td>\n",
       "      <td>20.45</td>\n",
       "      <td>33</td>\n",
       "      <td>0</td>\n",
       "      <td>7.21</td>\n",
       "      <td>Boquerón department</td>\n",
       "      <td>1662709013</td>\n",
       "    </tr>\n",
       "  </tbody>\n",
       "</table>\n",
       "<p>500 rows × 9 columns</p>\n",
       "</div>"
      ],
      "text/plain": [
       "                     City        Lat         Lng  Max Temp  Humidity  \\\n",
       "0                 mataura -46.193952  168.865478      8.60        95   \n",
       "1               saskylakh  71.954308  114.119835      4.32        97   \n",
       "2                 qaanaaq  77.467043  -69.228483     -2.61        74   \n",
       "3                 svetlyy  50.820238   60.851560     17.19        28   \n",
       "4                 rikitea -23.122303 -134.969154     22.69        69   \n",
       "..                    ...        ...         ...       ...       ...   \n",
       "495                noumea -22.273491  166.448089     24.27        99   \n",
       "496             tocopilla -22.088678  -70.196054     14.12        71   \n",
       "497               othonoi  39.841793   19.406447     27.76        80   \n",
       "498              paradwip  20.316552   86.611363     30.22        75   \n",
       "499  doctor pedro p. pena -22.450000  -62.350000     20.45        33   \n",
       "\n",
       "     Cloudiness  Wind Speed                          Country        Date  \n",
       "0            61        0.76                      New Zealand  1662708397  \n",
       "1           100        5.76                   Sakha Republic  1662708398  \n",
       "2            10        3.12                        Greenland  1662708399  \n",
       "3           100        5.15                  Orenburg Oblast  1662708400  \n",
       "4             0        9.08  The Tuamotu and Gambier Islands  1662708401  \n",
       "..          ...         ...                              ...         ...  \n",
       "495         100        3.56                    New Caledonia  1662709009  \n",
       "496          20        1.86               Tocopilla Province  1662709010  \n",
       "497           0        7.59                           Greece  1662709011  \n",
       "498          86        8.86                           Odisha  1662709012  \n",
       "499           0        7.21              Boquerón department  1662709013  \n",
       "\n",
       "[500 rows x 9 columns]"
      ]
     },
     "execution_count": 57,
     "metadata": {},
     "output_type": "execute_result"
    }
   ],
   "source": [
    "# Make a new DataFrame equal to the city data to drop all humidity outliers by index.\n",
    "# Passing \"inplace=False\" will make a copy of the city_data DataFrame, which we call \"clean_city_data\".\n",
    "\n",
    "clean_city_data"
   ]
  },
  {
   "cell_type": "code",
   "execution_count": 73,
   "metadata": {},
   "outputs": [
    {
     "data": {
      "text/html": [
       "<div>\n",
       "<style scoped>\n",
       "    .dataframe tbody tr th:only-of-type {\n",
       "        vertical-align: middle;\n",
       "    }\n",
       "\n",
       "    .dataframe tbody tr th {\n",
       "        vertical-align: top;\n",
       "    }\n",
       "\n",
       "    .dataframe thead th {\n",
       "        text-align: right;\n",
       "    }\n",
       "</style>\n",
       "<table border=\"1\" class=\"dataframe\">\n",
       "  <thead>\n",
       "    <tr style=\"text-align: right;\">\n",
       "      <th></th>\n",
       "      <th>Lat</th>\n",
       "      <th>Max Temp</th>\n",
       "    </tr>\n",
       "  </thead>\n",
       "  <tbody>\n",
       "    <tr>\n",
       "      <th>0</th>\n",
       "      <td>-46.193952</td>\n",
       "      <td>8.60</td>\n",
       "    </tr>\n",
       "    <tr>\n",
       "      <th>1</th>\n",
       "      <td>71.954308</td>\n",
       "      <td>4.32</td>\n",
       "    </tr>\n",
       "    <tr>\n",
       "      <th>2</th>\n",
       "      <td>77.467043</td>\n",
       "      <td>-2.61</td>\n",
       "    </tr>\n",
       "    <tr>\n",
       "      <th>3</th>\n",
       "      <td>50.820238</td>\n",
       "      <td>17.19</td>\n",
       "    </tr>\n",
       "    <tr>\n",
       "      <th>4</th>\n",
       "      <td>-23.122303</td>\n",
       "      <td>22.69</td>\n",
       "    </tr>\n",
       "    <tr>\n",
       "      <th>...</th>\n",
       "      <td>...</td>\n",
       "      <td>...</td>\n",
       "    </tr>\n",
       "    <tr>\n",
       "      <th>495</th>\n",
       "      <td>-22.273491</td>\n",
       "      <td>24.27</td>\n",
       "    </tr>\n",
       "    <tr>\n",
       "      <th>496</th>\n",
       "      <td>-22.088678</td>\n",
       "      <td>14.12</td>\n",
       "    </tr>\n",
       "    <tr>\n",
       "      <th>497</th>\n",
       "      <td>39.841793</td>\n",
       "      <td>27.76</td>\n",
       "    </tr>\n",
       "    <tr>\n",
       "      <th>498</th>\n",
       "      <td>20.316552</td>\n",
       "      <td>30.22</td>\n",
       "    </tr>\n",
       "    <tr>\n",
       "      <th>499</th>\n",
       "      <td>-22.450000</td>\n",
       "      <td>20.45</td>\n",
       "    </tr>\n",
       "  </tbody>\n",
       "</table>\n",
       "<p>500 rows × 2 columns</p>\n",
       "</div>"
      ],
      "text/plain": [
       "           Lat  Max Temp\n",
       "0   -46.193952      8.60\n",
       "1    71.954308      4.32\n",
       "2    77.467043     -2.61\n",
       "3    50.820238     17.19\n",
       "4   -23.122303     22.69\n",
       "..         ...       ...\n",
       "495 -22.273491     24.27\n",
       "496 -22.088678     14.12\n",
       "497  39.841793     27.76\n",
       "498  20.316552     30.22\n",
       "499 -22.450000     20.45\n",
       "\n",
       "[500 rows x 2 columns]"
      ]
     },
     "execution_count": 73,
     "metadata": {},
     "output_type": "execute_result"
    }
   ],
   "source": [
    "temp=pd.DataFrame(clean_city_data,columns=('Lat','Max Temp'))\n",
    "temp=clean_city_data[['Lat','Max Temp']]\n",
    "temp=clean_city_data.loc[:,['Lat','Max Temp']]\n",
    "temp"
   ]
  },
  {
   "cell_type": "markdown",
   "metadata": {},
   "source": [
    "## Plotting the Data\n",
    "* Use proper labelling of the plots using plot titles (including date of analysis) and axes labels.\n",
    "* Save the plotted figures as .pngs."
   ]
  },
  {
   "cell_type": "markdown",
   "metadata": {},
   "source": [
    "## Latitude vs. Temperature Plot"
   ]
  },
  {
   "cell_type": "code",
   "execution_count": 96,
   "metadata": {
    "scrolled": true
   },
   "outputs": [
    {
     "data": {
      "image/png": "[encoded data removed]",
      "text/plain": [
       "<Figure size 432x288 with 1 Axes>"
      ]
     },
     "metadata": {
      "needs_background": "light"
     },
     "output_type": "display_data"
    }
   ],
   "source": [
    "import datetime\n",
    "#import imp\n",
    "#imp.reload(matplotlib.pyplot)\n",
    "today=datetime.date.today()\n",
    "\n",
    "lat_temp_df=clean_city_data[['Lat','Max Temp']]\n",
    "lat_temp_df.plot.scatter(x='Lat',y='Max Temp',grid=True)\n",
    "\n",
    "plt.title(f\"City Latitude vs. Max Temperature ({today.strftime('%m/%d/%y')})\")\n",
    "plt.xlabel('Latitude')\n",
    "plt.ylabel('Max Temperature (C)')\n",
    "plt.show()"
   ]
  },
  {
   "cell_type": "markdown",
   "metadata": {},
   "source": [
    "The above scatter plot show some relationship between latitude and the max temperature."
   ]
  },
  {
   "cell_type": "markdown",
   "metadata": {},
   "source": [
    "## Latitude vs. Humidity Plot"
   ]
  },
  {
   "cell_type": "code",
   "execution_count": 97,
   "metadata": {},
   "outputs": [
    {
     "data": {
      "image/png": "[encoded data removed]",
      "text/plain": [
       "<Figure size 432x288 with 1 Axes>"
      ]
     },
     "metadata": {
      "needs_background": "light"
     },
     "output_type": "display_data"
    }
   ],
   "source": [
    "import datetime\n",
    "\n",
    "today=datetime.date.today()\n",
    "\n",
    "lat_temp_df=clean_city_data[['Lat','Humidity']]\n",
    "lat_temp_df.plot.scatter(x='Lat',y='Humidity',grid=True)\n",
    "\n",
    "plt.title(f\"City Latitude vs. Humidity ({today.strftime('%m/%d/%y')})\")\n",
    "plt.xlabel('Latitude')\n",
    "plt.ylabel('Humidity(%)')\n",
    "plt.show()"
   ]
  },
  {
   "cell_type": "markdown",
   "metadata": {},
   "source": [
    "The above scatter plot show some relationship between latitude and humidity."
   ]
  },
  {
   "cell_type": "markdown",
   "metadata": {},
   "source": [
    "## Latitude vs. Cloudiness Plot"
   ]
  },
  {
   "cell_type": "code",
   "execution_count": 98,
   "metadata": {},
   "outputs": [
    {
     "data": {
      "image/png": "[encoded data removed]",
      "text/plain": [
       "<Figure size 432x288 with 1 Axes>"
      ]
     },
     "metadata": {
      "needs_background": "light"
     },
     "output_type": "display_data"
    }
   ],
   "source": [
    "import datetime\n",
    "\n",
    "today=datetime.date.today()\n",
    "\n",
    "lat_temp_df=clean_city_data[['Lat','Cloudiness']]\n",
    "lat_temp_df.plot.scatter(x='Lat',y='Cloudiness',grid=True)\n",
    "\n",
    "plt.title(f\"City Latitude vs. Cloudiness ({today.strftime('%m/%d/%y')})\")\n",
    "plt.xlabel('Latitude')\n",
    "plt.ylabel('Cloudiness(%)')\n",
    "plt.show()"
   ]
  },
  {
   "cell_type": "markdown",
   "metadata": {},
   "source": [
    "The above scatter plot show some relationship between latitude and cloudiness."
   ]
  },
  {
   "cell_type": "markdown",
   "metadata": {},
   "source": [
    "## Latitude vs. Wind Speed Plot"
   ]
  },
  {
   "cell_type": "code",
   "execution_count": 99,
   "metadata": {},
   "outputs": [
    {
     "data": {
      "image/png": "[encoded data removed]",
      "text/plain": [
       "<Figure size 432x288 with 1 Axes>"
      ]
     },
     "metadata": {
      "needs_background": "light"
     },
     "output_type": "display_data"
    }
   ],
   "source": [
    "import datetime\n",
    "\n",
    "today=datetime.date.today()\n",
    "\n",
    "lat_temp_df=clean_city_data[['Lat','Wind Speed']]\n",
    "lat_temp_df.plot.scatter(x='Lat',y='Wind Speed',grid=True)\n",
    "\n",
    "plt.title(f\"City Latitude vs. Wind Speed ({today.strftime('%m/%d/%y')})\")\n",
    "plt.xlabel('Latitude')\n",
    "plt.ylabel('Wind Speed(m/s)')\n",
    "plt.show()"
   ]
  },
  {
   "cell_type": "markdown",
   "metadata": {},
   "source": [
    "The above scatter plot show some relationship between latitude and wind speed."
   ]
  },
  {
   "cell_type": "markdown",
   "metadata": {},
   "source": [
    "## Linear Regression"
   ]
  },
  {
   "cell_type": "code",
   "execution_count": 15,
   "metadata": {},
   "outputs": [],
   "source": []
  },
  {
   "cell_type": "markdown",
   "metadata": {},
   "source": [
    "###  Max Temp vs. Latitude Linear Regression"
   ]
  },
  {
   "cell_type": "markdown",
   "metadata": {},
   "source": [
    "####  Northern Hemisphere - Max Temp vs. Latitude Linear Regression"
   ]
  },
  {
   "cell_type": "code",
   "execution_count": 25,
   "metadata": {},
   "outputs": [
    {
     "name": "stdout",
     "output_type": "stream",
     "text": [
      "The r-value is: 0.7640805857357578\n"
     ]
    },
    {
     "data": {
      "image/png": "[encoded data removed]",
      "text/plain": [
       "<Figure size 432x288 with 1 Axes>"
      ]
     },
     "metadata": {
      "needs_background": "light"
     },
     "output_type": "display_data"
    }
   ],
   "source": []
  },
  {
   "cell_type": "markdown",
   "metadata": {},
   "source": [
    "####  Southern Hemisphere - Max Temp vs. Latitude Linear Regression"
   ]
  },
  {
   "cell_type": "code",
   "execution_count": 26,
   "metadata": {},
   "outputs": [
    {
     "name": "stdout",
     "output_type": "stream",
     "text": [
      "The r-value is: 0.6256245981061876\n"
     ]
    },
    {
     "data": {
      "image/png": "[encoded data removed]",
      "text/plain": [
       "<Figure size 432x288 with 1 Axes>"
      ]
     },
     "metadata": {
      "needs_background": "light"
     },
     "output_type": "display_data"
    }
   ],
   "source": []
  },
  {
   "cell_type": "markdown",
   "metadata": {},
   "source": [
    "### Humidity (%) vs. Latitude Linear Regression"
   ]
  },
  {
   "cell_type": "markdown",
   "metadata": {},
   "source": [
    "####  Northern Hemisphere - Humidity (%) vs. Latitude Linear Regression"
   ]
  },
  {
   "cell_type": "code",
   "execution_count": 19,
   "metadata": {},
   "outputs": [
    {
     "name": "stdout",
     "output_type": "stream",
     "text": [
      "The r-value is: 0.06982695849910577\n"
     ]
    },
    {
     "data": {
      "image/png": "[encoded data removed]",
      "text/plain": [
       "<Figure size 432x288 with 1 Axes>"
      ]
     },
     "metadata": {
      "needs_background": "light"
     },
     "output_type": "display_data"
    }
   ],
   "source": []
  },
  {
   "cell_type": "markdown",
   "metadata": {},
   "source": [
    "####  Southern Hemisphere - Humidity (%) vs. Latitude Linear Regression"
   ]
  },
  {
   "cell_type": "code",
   "execution_count": 20,
   "metadata": {},
   "outputs": [
    {
     "name": "stdout",
     "output_type": "stream",
     "text": [
      "The r-value is: 0.02022495487637025\n"
     ]
    },
    {
     "data": {
      "image/png": "[encoded data removed]",
      "text/plain": [
       "<Figure size 432x288 with 1 Axes>"
      ]
     },
     "metadata": {
      "needs_background": "light"
     },
     "output_type": "display_data"
    }
   ],
   "source": []
  },
  {
   "cell_type": "markdown",
   "metadata": {},
   "source": [
    "### Cloudiness (%) vs. Latitude Linear Regression"
   ]
  },
  {
   "cell_type": "markdown",
   "metadata": {},
   "source": [
    "####  Northern Hemisphere - Cloudiness (%) vs. Latitude Linear Regression"
   ]
  },
  {
   "cell_type": "code",
   "execution_count": 21,
   "metadata": {},
   "outputs": [
    {
     "name": "stdout",
     "output_type": "stream",
     "text": [
      "The r-value is: 0.019699884022974727\n"
     ]
    },
    {
     "data": {
      "image/png": "[encoded data removed]",
      "text/plain": [
       "<Figure size 432x288 with 1 Axes>"
      ]
     },
     "metadata": {
      "needs_background": "light"
     },
     "output_type": "display_data"
    }
   ],
   "source": []
  },
  {
   "cell_type": "markdown",
   "metadata": {},
   "source": [
    "####  Southern Hemisphere - Cloudiness (%) vs. Latitude Linear Regression"
   ]
  },
  {
   "cell_type": "code",
   "execution_count": 22,
   "metadata": {},
   "outputs": [
    {
     "name": "stdout",
     "output_type": "stream",
     "text": [
      "The r-value is: 0.080260704316503\n"
     ]
    },
    {
     "data": {
      "image/png": "[encoded data removed]",
      "text/plain": [
       "<Figure size 432x288 with 1 Axes>"
      ]
     },
     "metadata": {
      "needs_background": "light"
     },
     "output_type": "display_data"
    }
   ],
   "source": []
  },
  {
   "cell_type": "markdown",
   "metadata": {},
   "source": [
    "### Wind Speed (m/s) vs. Latitude Linear Regression"
   ]
  },
  {
   "cell_type": "markdown",
   "metadata": {},
   "source": [
    "####  Northern Hemisphere - Wind Speed (mph) vs. Latitude Linear Regression"
   ]
  },
  {
   "cell_type": "code",
   "execution_count": 27,
   "metadata": {},
   "outputs": [
    {
     "name": "stdout",
     "output_type": "stream",
     "text": [
      "The r-value is: 0.0020341076093606733\n"
     ]
    },
    {
     "data": {
      "image/png": "[encoded data removed]",
      "text/plain": [
       "<Figure size 432x288 with 1 Axes>"
      ]
     },
     "metadata": {
      "needs_background": "light"
     },
     "output_type": "display_data"
    }
   ],
   "source": []
  },
  {
   "cell_type": "markdown",
   "metadata": {},
   "source": [
    "####  Southern Hemisphere - Wind Speed (mph) vs. Latitude Linear Regression"
   ]
  },
  {
   "cell_type": "code",
   "execution_count": 28,
   "metadata": {},
   "outputs": [
    {
     "name": "stdout",
     "output_type": "stream",
     "text": [
      "The r-value is: 0.07155750601569683\n"
     ]
    },
    {
     "data": {
      "image/png": "[encoded data removed]",
      "text/plain": [
       "<Figure size 432x288 with 1 Axes>"
      ]
     },
     "metadata": {
      "needs_background": "light"
     },
     "output_type": "display_data"
    }
   ],
   "source": []
  },
  {
   "cell_type": "code",
   "execution_count": null,
   "metadata": {},
   "outputs": [],
   "source": []
  }
 ],
 "metadata": {
  "anaconda-cloud": {},
  "kernel_info": {
   "name": "python3"
  },
  "kernelspec": {
   "display_name": "Python 3.10.4 ('PythonData')",
   "language": "python",
   "name": "python3"
  },
  "language_info": {
   "codemirror_mode": {
    "name": "ipython",
    "version": 3
   },
   "file_extension": ".py",
   "mimetype": "text/x-python",
   "name": "python",
   "nbconvert_exporter": "python",
   "pygments_lexer": "ipython3",
   "version": "3.10.4"
  },
  "latex_envs": {
   "LaTeX_envs_menu_present": true,
   "autoclose": false,
   "autocomplete": true,
   "bibliofile": "biblio.bib",
   "cite_by": "apalike",
   "current_citInitial": 1,
   "eqLabelWithNumbers": true,
   "eqNumInitial": 1,
   "hotkeys": {
    "equation": "Ctrl-E",
    "itemize": "Ctrl-I"
   },
   "labels_anchors": false,
   "latex_user_defs": false,
   "report_style_numbering": false,
   "user_envs_cfg": false
  },
  "nteract": {
   "version": "0.12.3"
  },
  "vscode": {
   "interpreter": {
    "hash": "0d50397dabfa9a816f0b2bb17b02cf6912088a0836263e0b871ec0c8e7b3e328"
   }
  }
 },
 "nbformat": 4,
 "nbformat_minor": 2
}
